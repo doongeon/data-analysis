{
 "cells": [
  {
   "cell_type": "code",
   "execution_count": 1,
   "id": "429560c5",
   "metadata": {},
   "outputs": [],
   "source": [
    "import pandas as pd\n",
    "import numpy as np"
   ]
  },
  {
   "cell_type": "code",
   "execution_count": 135,
   "id": "c455ad58",
   "metadata": {},
   "outputs": [],
   "source": [
    "comp = pd.read_csv('ranked_comp.csv')"
   ]
  },
  {
   "cell_type": "code",
   "execution_count": 142,
   "id": "2a34beb6",
   "metadata": {},
   "outputs": [
    {
     "data": {
      "text/html": [
       "<div>\n",
       "<style scoped>\n",
       "    .dataframe tbody tr th:only-of-type {\n",
       "        vertical-align: middle;\n",
       "    }\n",
       "\n",
       "    .dataframe tbody tr th {\n",
       "        vertical-align: top;\n",
       "    }\n",
       "\n",
       "    .dataframe thead th {\n",
       "        text-align: right;\n",
       "    }\n",
       "</style>\n",
       "<table border=\"1\" class=\"dataframe\">\n",
       "  <thead>\n",
       "    <tr style=\"text-align: right;\">\n",
       "      <th></th>\n",
       "      <th>comp</th>\n",
       "      <th>KIS</th>\n",
       "      <th>KR</th>\n",
       "      <th>NICE</th>\n",
       "    </tr>\n",
       "  </thead>\n",
       "  <tbody>\n",
       "    <tr>\n",
       "      <th>0</th>\n",
       "      <td>AJ네트웍스</td>\n",
       "      <td>BBB+</td>\n",
       "      <td>BBB+</td>\n",
       "      <td></td>\n",
       "    </tr>\n",
       "    <tr>\n",
       "      <th>1</th>\n",
       "      <td>APS홀딩스</td>\n",
       "      <td></td>\n",
       "      <td>BBB</td>\n",
       "      <td></td>\n",
       "    </tr>\n",
       "    <tr>\n",
       "      <th>2</th>\n",
       "      <td>AP시스템</td>\n",
       "      <td></td>\n",
       "      <td>BBB</td>\n",
       "      <td></td>\n",
       "    </tr>\n",
       "    <tr>\n",
       "      <th>3</th>\n",
       "      <td>BGF</td>\n",
       "      <td></td>\n",
       "      <td></td>\n",
       "      <td>A+</td>\n",
       "    </tr>\n",
       "    <tr>\n",
       "      <th>4</th>\n",
       "      <td>BNK금융지주</td>\n",
       "      <td>AAA</td>\n",
       "      <td>AAA</td>\n",
       "      <td>AAA</td>\n",
       "    </tr>\n",
       "    <tr>\n",
       "      <th>...</th>\n",
       "      <td>...</td>\n",
       "      <td>...</td>\n",
       "      <td>...</td>\n",
       "      <td>...</td>\n",
       "    </tr>\n",
       "    <tr>\n",
       "      <th>856</th>\n",
       "      <td>휴니드</td>\n",
       "      <td></td>\n",
       "      <td></td>\n",
       "      <td></td>\n",
       "    </tr>\n",
       "    <tr>\n",
       "      <th>857</th>\n",
       "      <td>휴맥스</td>\n",
       "      <td></td>\n",
       "      <td>BBB-</td>\n",
       "      <td></td>\n",
       "    </tr>\n",
       "    <tr>\n",
       "      <th>858</th>\n",
       "      <td>휴비스</td>\n",
       "      <td></td>\n",
       "      <td>A-</td>\n",
       "      <td>A-</td>\n",
       "    </tr>\n",
       "    <tr>\n",
       "      <th>859</th>\n",
       "      <td>흥국화재</td>\n",
       "      <td></td>\n",
       "      <td></td>\n",
       "      <td>A</td>\n",
       "    </tr>\n",
       "    <tr>\n",
       "      <th>860</th>\n",
       "      <td>흥아해운</td>\n",
       "      <td></td>\n",
       "      <td>CCC</td>\n",
       "      <td>CCC</td>\n",
       "    </tr>\n",
       "  </tbody>\n",
       "</table>\n",
       "<p>861 rows × 4 columns</p>\n",
       "</div>"
      ],
      "text/plain": [
       "        comp   KIS    KR NICE\n",
       "0     AJ네트웍스  BBB+  BBB+     \n",
       "1     APS홀딩스         BBB     \n",
       "2      AP시스템         BBB     \n",
       "3        BGF               A+\n",
       "4    BNK금융지주   AAA   AAA  AAA\n",
       "..       ...   ...   ...  ...\n",
       "856      휴니드                 \n",
       "857      휴맥스        BBB-     \n",
       "858      휴비스          A-   A-\n",
       "859     흥국화재                A\n",
       "860     흥아해운         CCC  CCC\n",
       "\n",
       "[861 rows x 4 columns]"
      ]
     },
     "execution_count": 142,
     "metadata": {},
     "output_type": "execute_result"
    }
   ],
   "source": [
    "comp.iloc[:,1:]"
   ]
  },
  {
   "cell_type": "code",
   "execution_count": 94,
   "id": "1d451991",
   "metadata": {},
   "outputs": [],
   "source": [
    "rank1 = comp.KIS.unique()"
   ]
  },
  {
   "cell_type": "code",
   "execution_count": 95,
   "id": "d8caaa1e",
   "metadata": {},
   "outputs": [],
   "source": [
    "rank2 = comp.KR.unique()"
   ]
  },
  {
   "cell_type": "code",
   "execution_count": 96,
   "id": "1272ed71",
   "metadata": {},
   "outputs": [],
   "source": [
    "rank3 = comp.NICE.unique()"
   ]
  },
  {
   "cell_type": "code",
   "execution_count": 97,
   "id": "9f516982",
   "metadata": {},
   "outputs": [],
   "source": [
    "rank = set(rank1).union(set(rank2)).union(set(rank3))"
   ]
  },
  {
   "cell_type": "code",
   "execution_count": 98,
   "id": "43fdaefa",
   "metadata": {},
   "outputs": [
    {
     "data": {
      "text/plain": [
       "{'A',\n",
       " 'A+',\n",
       " 'A-',\n",
       " 'AA',\n",
       " 'AA+',\n",
       " 'AA-',\n",
       " 'AAA',\n",
       " 'B',\n",
       " 'B+',\n",
       " 'B-',\n",
       " 'BB',\n",
       " 'BB+',\n",
       " 'BB-',\n",
       " 'BBB',\n",
       " 'BBB+',\n",
       " 'BBB-',\n",
       " 'C',\n",
       " 'CC',\n",
       " 'CCC',\n",
       " 'CCC+',\n",
       " 'CCC-',\n",
       " 'D',\n",
       " nan,\n",
       " '\\xa0',\n",
       " '취소'}"
      ]
     },
     "execution_count": 98,
     "metadata": {},
     "output_type": "execute_result"
    }
   ],
   "source": [
    "rank"
   ]
  },
  {
   "cell_type": "code",
   "execution_count": 99,
   "id": "21929fc3",
   "metadata": {},
   "outputs": [],
   "source": [
    "rank_dic = {\n",
    "    'A': 20,\n",
    "    'A+': 21,\n",
    "    'A-': 19,\n",
    "    'AA': 23,\n",
    "    'AA+': 24,\n",
    "    'AA-': 22,\n",
    "    'AAA': 25,\n",
    "    'B': 11,\n",
    "    'B+': 12,\n",
    "    'B-': 10,\n",
    "    'BB': 14,\n",
    "    'BB+': 15,\n",
    "    'BB-': 13,\n",
    "    'BBB': 17,\n",
    "    'BBB+': 18,\n",
    "    'BBB-': 16,\n",
    "    'C': 5,\n",
    "    'CC': 6,\n",
    "    'CCC': 8,\n",
    "    'CCC+': 9,\n",
    "    'CCC-': 7,\n",
    "    'D': 4,\n",
    "    'nan': 99,\n",
    "    '\\xa0': 99,\n",
    "    '취소': 99,\n",
    "}"
   ]
  },
  {
   "cell_type": "code",
   "execution_count": 100,
   "id": "d9ae5415",
   "metadata": {},
   "outputs": [
    {
     "data": {
      "text/plain": [
       "'CCC'"
      ]
     },
     "execution_count": 100,
     "metadata": {},
     "output_type": "execute_result"
    }
   ],
   "source": [
    "rankers = [row.KIS, row.KR, row.NICE]\n",
    "ranks = [rank_dic[row.KIS], rank_dic[row.KR], rank_dic[row.NICE]]\n",
    "\n",
    "target = np.argmin(ranks)\n",
    "\n",
    "rankers[target]"
   ]
  },
  {
   "cell_type": "code",
   "execution_count": 101,
   "id": "62fedeba",
   "metadata": {},
   "outputs": [],
   "source": [
    "row = comp.iloc[0]"
   ]
  },
  {
   "cell_type": "code",
   "execution_count": null,
   "id": "7b02a962",
   "metadata": {},
   "outputs": [],
   "source": []
  },
  {
   "cell_type": "code",
   "execution_count": 102,
   "id": "e538e216",
   "metadata": {},
   "outputs": [
    {
     "data": {
      "text/plain": [
       "18"
      ]
     },
     "execution_count": 102,
     "metadata": {},
     "output_type": "execute_result"
    }
   ],
   "source": [
    "rank_dic[row.KIS]"
   ]
  },
  {
   "cell_type": "code",
   "execution_count": 103,
   "id": "d3f89553",
   "metadata": {},
   "outputs": [
    {
     "data": {
      "text/plain": [
       "18"
      ]
     },
     "execution_count": 103,
     "metadata": {},
     "output_type": "execute_result"
    }
   ],
   "source": [
    "rank_dic[row.KR]"
   ]
  },
  {
   "cell_type": "code",
   "execution_count": 104,
   "id": "d6f9b912",
   "metadata": {},
   "outputs": [
    {
     "data": {
      "text/plain": [
       "99"
      ]
     },
     "execution_count": 104,
     "metadata": {},
     "output_type": "execute_result"
    }
   ],
   "source": [
    "rank_dic[row.NICE]"
   ]
  },
  {
   "cell_type": "code",
   "execution_count": 105,
   "id": "d3d40d25",
   "metadata": {},
   "outputs": [],
   "source": [
    "comp_rank = []\n",
    "rank_val = []\n",
    "err_idx = []\n",
    "\n",
    "for index, row in comp.iterrows():\n",
    "    rankers = [row.KIS, row.KR, row.NICE]\n",
    "    \n",
    "    try:\n",
    "        ranks = [rank_dic[row.KIS], rank_dic[row.KR], rank_dic[row.NICE]]\n",
    "    except Exception as e:\n",
    "        err_idx.append(index)\n",
    "        comp_rank.append(None)\n",
    "        rank_val.append(None)\n",
    "        continue;\n",
    "\n",
    "    target = np.argmin(ranks)\n",
    "\n",
    "    rank = rankers[target]\n",
    "    \n",
    "    rank_val.append(ranks[target])\n",
    "    comp_rank.append(rank)"
   ]
  },
  {
   "cell_type": "code",
   "execution_count": 106,
   "id": "48b0cc49",
   "metadata": {},
   "outputs": [],
   "source": [
    "comp['rank'] = comp_rank"
   ]
  },
  {
   "cell_type": "code",
   "execution_count": 107,
   "id": "54e2d402",
   "metadata": {},
   "outputs": [],
   "source": [
    "comp['rank_val'] = rank_val"
   ]
  },
  {
   "cell_type": "code",
   "execution_count": 108,
   "id": "af013984",
   "metadata": {},
   "outputs": [],
   "source": [
    "temp = comp.dropna()"
   ]
  },
  {
   "cell_type": "code",
   "execution_count": 109,
   "id": "20f97384",
   "metadata": {},
   "outputs": [],
   "source": [
    "temp = temp[temp.rank_val < 30]"
   ]
  },
  {
   "cell_type": "code",
   "execution_count": 129,
   "id": "30f4ecb7",
   "metadata": {},
   "outputs": [],
   "source": [
    "cleaned_comp = temp"
   ]
  },
  {
   "cell_type": "code",
   "execution_count": 130,
   "id": "12b3a411",
   "metadata": {},
   "outputs": [],
   "source": [
    "cleaned_comp = cleaned_comp.rename(columns={'Unnamed: 0': 'index'})"
   ]
  },
  {
   "cell_type": "code",
   "execution_count": 132,
   "id": "350541f2",
   "metadata": {},
   "outputs": [],
   "source": [
    "cleaned_comp = cleaned_comp.set_index('index')"
   ]
  },
  {
   "cell_type": "code",
   "execution_count": 134,
   "id": "50bf1e64",
   "metadata": {},
   "outputs": [],
   "source": [
    "cleaned_comp.to_csv('cleaned_comp.csv', index=True)"
   ]
  },
  {
   "cell_type": "code",
   "execution_count": null,
   "id": "7bc676b9",
   "metadata": {},
   "outputs": [],
   "source": []
  }
 ],
 "metadata": {
  "kernelspec": {
   "display_name": "Python 3 (ipykernel)",
   "language": "python",
   "name": "python3"
  },
  "language_info": {
   "codemirror_mode": {
    "name": "ipython",
    "version": 3
   },
   "file_extension": ".py",
   "mimetype": "text/x-python",
   "name": "python",
   "nbconvert_exporter": "python",
   "pygments_lexer": "ipython3",
   "version": "3.9.13"
  }
 },
 "nbformat": 4,
 "nbformat_minor": 5
}
